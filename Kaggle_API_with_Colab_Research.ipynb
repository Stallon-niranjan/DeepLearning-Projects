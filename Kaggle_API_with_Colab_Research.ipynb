{
  "nbformat": 4,
  "nbformat_minor": 0,
  "metadata": {
    "colab": {
      "name": "Kaggle API with Colab Research",
      "version": "0.3.2",
      "provenance": [],
      "collapsed_sections": []
    },
    "kernelspec": {
      "name": "python3",
      "display_name": "Python 3"
    },
    "accelerator": "GPU"
  },
  "cells": [
    {
      "cell_type": "markdown",
      "metadata": {
        "id": "view-in-github",
        "colab_type": "text"
      },
      "source": [
        "[View in Colaboratory](https://colab.research.google.com/github/Stallon-niranjan/DeepLearning-Projects/blob/master/Kaggle_API_with_Colab_Research.ipynb)"
      ]
    },
    {
      "metadata": {
        "id": "mf2ENBI217Zd",
        "colab_type": "text"
      },
      "cell_type": "markdown",
      "source": [
        "# This notebook provides a recipe for using Kaggle API with Colab Research"
      ]
    },
    {
      "metadata": {
        "id": "YMvFLpBQlBTR",
        "colab_type": "code",
        "colab": {
          "base_uri": "https://localhost:8080/",
          "height": 136
        },
        "outputId": "0114785a-7360-4b4c-a470-bdd13cfc6767"
      },
      "cell_type": "code",
      "source": [
        "!pip install kaggle"
      ],
      "execution_count": 1,
      "outputs": [
        {
          "output_type": "stream",
          "text": [
            "Requirement already satisfied: kaggle in /usr/local/lib/python3.6/dist-packages\r\n",
            "Requirement already satisfied: python-dateutil in /usr/local/lib/python3.6/dist-packages (from kaggle)\r\n",
            "Requirement already satisfied: certifi in /usr/local/lib/python3.6/dist-packages (from kaggle)\r\n",
            "Requirement already satisfied: urllib3>=1.15 in /usr/local/lib/python3.6/dist-packages (from kaggle)\r\n",
            "Requirement already satisfied: six>=1.10 in /usr/local/lib/python3.6/dist-packages (from kaggle)\n",
            "\u001b[33mYou are using pip version 9.0.3, however version 10.0.1 is available.\n",
            "You should consider upgrading via the 'pip install --upgrade pip' command.\u001b[0m\n"
          ],
          "name": "stdout"
        }
      ]
    },
    {
      "metadata": {
        "id": "pBETV6aO2d39",
        "colab_type": "text"
      },
      "cell_type": "markdown",
      "source": [
        "# API Credentials\n",
        "\n",
        "To use the Kaggle API, sign up for a Kaggle account at https://www.kaggle.com. Then go to the 'Account' tab of your user profile (https://www.kaggle.com/<username>/account) and select 'Create API Token'. This will trigger the download of kaggle.json, a file containing your API credentials. \n",
        "\n",
        "Place this file on your Google Drive anywhere.\n",
        "\n",
        "With the next snippet you download your credentials to Colab and you can start using Kaggle API"
      ]
    },
    {
      "metadata": {
        "id": "y5_288BYp6H1",
        "colab_type": "code",
        "colab": {
          "base_uri": "https://localhost:8080/",
          "height": 34
        },
        "outputId": "dcf479c4-00bc-40cf-9e85-0c977b5ebc73"
      },
      "cell_type": "code",
      "source": [
        "from googleapiclient.discovery import build\n",
        "import io, os\n",
        "from googleapiclient.http import MediaIoBaseDownload\n",
        "from google.colab import auth\n",
        "\n",
        "auth.authenticate_user()\n",
        "\n",
        "drive_service = build('drive', 'v3')\n",
        "results = drive_service.files().list(\n",
        "        q=\"name = 'kaggle.json'\", fields=\"files(id)\").execute()\n",
        "kaggle_api_key = results.get('files', [])\n",
        "\n",
        "filename = \"/content/.kaggle/kaggle.json\"\n",
        "os.makedirs(os.path.dirname(filename), exist_ok=True)\n",
        "\n",
        "request = drive_service.files().get_media(fileId=kaggle_api_key[0]['id'])\n",
        "fh = io.FileIO(filename, 'wb')\n",
        "downloader = MediaIoBaseDownload(fh, request)\n",
        "done = False\n",
        "while done is False:\n",
        "    status, done = downloader.next_chunk()\n",
        "    print(\"Download %d%%.\" % int(status.progress() * 100))\n",
        "os.chmod(filename, 600)"
      ],
      "execution_count": 4,
      "outputs": [
        {
          "output_type": "stream",
          "text": [
            "Download 100%.\n"
          ],
          "name": "stdout"
        }
      ]
    },
    {
      "metadata": {
        "id": "5l1V_oxXsZ8l",
        "colab_type": "code",
        "colab": {
          "base_uri": "https://localhost:8080/",
          "height": 391
        },
        "outputId": "e9d9f229-01c8-4895-ad07-dcf54c2cd9a8"
      },
      "cell_type": "code",
      "source": [
        "!kaggle competitions list"
      ],
      "execution_count": 6,
      "outputs": [
        {
          "output_type": "stream",
          "text": [
            "ref                                             deadline             category            reward  teamCount  userHasEntered  \r\n",
            "----------------------------------------------  -------------------  ---------------  ---------  ---------  --------------  \r\n",
            "imagenet-object-detection-challenge             2029-12-31 07:00:00  Research         Knowledge          0           False  \r\n",
            "imagenet-object-detection-from-video-challenge  2029-12-31 07:00:00  Research         Knowledge          0           False  \r\n",
            "imagenet-object-localization-challenge          2029-12-31 07:00:00  Research         Knowledge          7           False  \r\n",
            "titanic                                         2020-04-07 00:00:00  Getting Started  Knowledge      11116            True  \r\n",
            "house-prices-advanced-regression-techniques     2020-03-01 23:59:00  Getting Started  Knowledge       5028            True  \r\n",
            "digit-recognizer                                2020-01-07 00:00:00  Getting Started  Knowledge       2263           False  \r\n",
            "competitive-data-science-predict-future-sales   2019-01-01 23:59:00  Playground           Kudos        303            True  \r\n",
            "freesound-audio-tagging                         2018-07-31 23:59:00  Research         Knowledge         72           False  \r\n",
            "whale-categorization-playground                 2018-07-09 23:59:00  Playground           Kudos        201           False  \r\n",
            "cvpr-2018-autonomous-driving                    2018-06-11 23:59:00  Research            $2,500         27           False  \r\n",
            "inaturalist-2018                                2018-06-04 23:59:00  Research             Kudos         32           False  \r\n",
            "imaterialist-challenge-fashion-2018             2018-05-30 23:59:00  Research            $2,500         55           False  \r\n",
            "imaterialist-challenge-furniture-2018           2018-05-30 23:59:00  Research            $2,500        224           False  \r\n",
            "landmark-retrieval-challenge                    2018-05-22 23:59:00  Research            $2,500        126           False  \r\n",
            "landmark-recognition-challenge                  2018-05-22 23:59:00  Research            $2,500        273           False  \r\n",
            "talkingdata-adtracking-fraud-detection          2018-05-07 23:59:00  Featured           $25,000       3253            True  \r\n",
            "donorschoose-application-screening              2018-04-25 23:59:00  Playground            Swag        558           False  \r\n",
            "data-science-bowl-2018                          2018-04-16 23:59:00  Featured          $100,000       3634            True  \r\n",
            "mens-machine-learning-competition-2018          2018-04-02 23:59:00  Featured           $50,000        934           False  \r\n",
            "womens-machine-learning-competition-2018        2018-04-01 23:59:00  Featured           $50,000        505           False  \r\n"
          ],
          "name": "stdout"
        }
      ]
    }
  ]
}